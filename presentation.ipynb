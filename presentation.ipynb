{
 "cells": [
  {
   "cell_type": "markdown",
   "metadata": {
    "slideshow": {
     "slide_type": "slide"
    }
   },
   "source": [
    "#  Functional Data Engineering in Team 🥑\n",
    "\n",
    "* Forecasting Team 🥑 at Maersk\n",
    "* Data and machine learning pipelines in k8s\n",
    "* Implementation of great expectations\n",
    "* Pain & Gain\n",
    "\n",
    "___\n",
    "\n",
    "Presenter: Micha B A Kunze - michabenachim.kunze@maersk.com | [@mbakunze](https://github.com/mbakunze)"
   ]
  },
  {
   "cell_type": "markdown",
   "source": [
    "# Forecasting Team 🥑 at Maersk\n"
   ],
   "metadata": {
    "collapsed": false,
    "pycharm": {
     "name": "#%% md\n"
    }
   }
  },
  {
   "cell_type": "markdown",
   "source": [
    "# Maersk\n",
    "\n",
    "* largest ocean container shipper (~20-25% of global volume)\n",
    "* ~ 700 vessels (owned + chartered)\n"
   ],
   "metadata": {
    "collapsed": false,
    "pycharm": {
     "name": "#%% md\n"
    }
   }
  },
  {
   "cell_type": "markdown",
   "metadata": {
    "pycharm": {
     "name": "#%% md\n"
    },
    "slideshow": {
     "slide_type": "slide"
    }
   },
   "source": [
    "## Team 🥑\n",
    "We build forecasts - together:\n",
    "\n",
    "Edward, Lasse, Hans, Karin, Julija, Henrik, Ricko, Luca, Marco, Andreas, Micha, Søren and Julia."
   ]
  },
  {
   "cell_type": "markdown",
   "metadata": {
    "slideshow": {
     "slide_type": "slide"
    }
   },
   "source": [
    "## Building forecasts\n",
    "\n",
    " * batch processing of __full__ historical datasets\n",
    " * crucial that data is historically accurate (at which time did you know what)\n",
    " * computationally heavy jobs\n",
    " "
   ]
  },
  {
   "cell_type": "markdown",
   "metadata": {
    "slideshow": {
     "slide_type": "subslide"
    }
   },
   "source": [
    " ### Tech stack:\n",
    " * Git\n",
    " * Docker\n",
    " * Kubernetes\n",
    " * Python, R, Spark\n",
    " * Azure Blob Storage\n",
    " * Datadog"
   ]
  },
  {
   "cell_type": "markdown",
   "metadata": {
    "slideshow": {
     "slide_type": "slide"
    }
   },
   "source": [
    "# How we work\n",
    "\n",
    " * everything is code, and code lives in git\n",
    " * DevOps / GitOps\n",
    " * all running code is containerized\n",
    " * highly collaborative: software engineers | data scientists | data engineers pair to solve challenges\n",
    " * multiple forecasting products in production -> millions of forecasts a day\n",
    "\n",
    " ![git_commits](assets/git_commits.png)\n"
   ]
  },
  {
   "cell_type": "markdown",
   "metadata": {
    "slideshow": {
     "slide_type": "slide"
    }
   },
   "source": [
    "## Forecasting products\n",
    "\n",
    "HOW MUCH CAN I SAY HERE?"
   ]
  },
  {
   "cell_type": "markdown",
   "source": [
    "# Data and machine learning pipelines in k8s"
   ],
   "metadata": {
    "collapsed": false,
    "pycharm": {
     "name": "#%% md\n"
    }
   }
  },
  {
   "cell_type": "markdown",
   "metadata": {
    "slideshow": {
     "slide_type": "slide"
    }
   },
   "source": [
    "# How we build pipelines\n",
    "\n",
    " * use pippi to run pipelines (handles scheduling, compute and storage)\n",
    " * separate functions (-> code) and data (-> config)\n",
    " * use git branching to build new/modify pipeline code\n",
    " * datasets are saved as __immutable__ snapshots for each run!\n",
    " \n",
    " Allows us to isolate concerns and develop in parallel.\n",
    " \n",
    "![pippi_r2l](assets/pippi_r2l.png)"
   ]
  },
  {
   "cell_type": "code",
   "execution_count": 17,
   "metadata": {
    "slideshow": {
     "slide_type": "slide"
    }
   },
   "outputs": [],
   "source": [
    "# this might be might the code for you data pipeline\n",
    "# runs locally the same as on k8s\n",
    "\n",
    "import pandas as pd\n",
    "\n",
    "def most_important_transform(source01_path: str, source02_path: str, destination_path: str):\n",
    "    source01_df = pd.read_parquet(source01_path)\n",
    "    source02_df = pd.read_parquet(source02_path)\n",
    "    \n",
    "    transformed_df = source01_df.merge(source02_df, on=\"shipment_id\", how=\"left\")\n",
    "    \n",
    "    transformed_df.to_parquet(destination_path)\n",
    "    \n"
   ]
  },
  {
   "cell_type": "markdown",
   "metadata": {
    "slideshow": {
     "slide_type": "slide"
    }
   },
   "source": [
    "## Your configuration could then look like this:\n",
    "\n",
    "```bash\n",
    "SOURCE01_STORAGE_ACCOUNT=prod\n",
    "SOURCE01_DATASET=shipments\n",
    "\n",
    "SOURCE02_STORAGE_ACCOUNT=prod\n",
    "SOURCE02_DATASET=commitments\n",
    "\n",
    "DESTINATION_STORAGE_ACCOUNT=prod\n",
    "DESTINATION_DATASET=commitment_shipments\n",
    "\n",
    "JOB_EXECUTION_TARGET=ge_entrypoint python -m most_important_transform\n",
    "\n",
    "SCHEDULER_STRATEGY=Any\n",
    "```"
   ]
  },
  {
   "cell_type": "markdown",
   "metadata": {
    "slideshow": {
     "slide_type": "slide"
    }
   },
   "source": [
    "# Functional Data Engineering\n",
    "\n",
    "Functional as in _functional programming_. Many of the principles lend themsleves well to data engineering.\n",
    "\n",
    " * __immutable data__ - snapshot all the data!\n",
    " * __idempotent functions__ - data pipelines are functions that have no side effects\n",
    " * __reproducibility__ - foundation of the scientific method (and sanity)\n",
    " \n",
    " \n",
    "___ \n",
    " _Check:_ Maxime Beauchemin, founder of Airflow\n",
    "  * [medium post on functional data engineering](https://medium.com/@maximebeauchemin/functional-data-engineering-a-modern-paradigm-for-batch-data-processing-2327ec32c42a)\n",
    "  * [youtube video on functional data engineering](https://youtu.be/4Spo2QRTz1k)"
   ]
  },
  {
   "cell_type": "markdown",
   "metadata": {
    "slideshow": {
     "slide_type": "subslide"
    }
   },
   "source": [
    "## Immutability\n",
    "\n",
    "Data snapshotting:\n",
    "\n",
    "![pippi-snaphoting](assets/pippi-pipeline.png)"
   ]
  },
  {
   "cell_type": "markdown",
   "metadata": {
    "slideshow": {
     "slide_type": "subslide"
    }
   },
   "source": [
    "## Immutability\n",
    "\n",
    "Data & code dependencies:\n",
    "\n",
    "![pippi-snaphoting](assets/pippi-snaphots.png)\n",
    "\n"
   ]
  },
  {
   "cell_type": "markdown",
   "metadata": {
    "slideshow": {
     "slide_type": "subslide"
    }
   },
   "source": [
    "## Idempotency\n",
    "\n",
    "Running the exact pipeline again produces the same output.\n",
    "\n",
    "OR\n",
    "\n",
    "Repeatedly running the pipeline will not change the outcome."
   ]
  },
  {
   "cell_type": "markdown",
   "metadata": {
    "slideshow": {
     "slide_type": "subslide"
    }
   },
   "source": [
    "## Reproducibility\n",
    "\n",
    "Foundation to do scientific/analytics work. \n",
    "\n",
    "Immutability is a key enabler of reproducibility, and so is idempotency. \n"
   ]
  },
  {
   "cell_type": "markdown",
   "metadata": {
    "slideshow": {
     "slide_type": "slide"
    }
   },
   "source": [
    "# Implementation of great expectations\n"
   ]
  },
  {
   "cell_type": "markdown",
   "metadata": {
    "slideshow": {
     "slide_type": "slide"
    }
   },
   "source": []
  },
  {
   "cell_type": "markdown",
   "metadata": {
    "slideshow": {
     "slide_type": "slide"
    }
   },
   "source": [
    "## Data Docs"
   ]
  },
  {
   "cell_type": "markdown",
   "metadata": {
    "slideshow": {
     "slide_type": "slide"
    }
   },
   "source": [
    "# How we use data validation\n",
    "\n",
    "* validate source AND destination data\n",
    "* break pipeline when either is bad\n",
    "\n",
    "![ge_flow](assets/ge_entrypoint_logic.svg)\n"
   ]
  },
  {
   "cell_type": "markdown",
   "metadata": {
    "slideshow": {
     "slide_type": "subslide"
    }
   },
   "source": [
    "![ge_flow](assets/ge_entrypoint_flow.svg)"
   ]
  },
  {
   "cell_type": "markdown",
   "metadata": {
    "slideshow": {
     "slide_type": "slide"
    }
   },
   "source": [
    "# Pain & Gain"
   ]
  },
  {
   "cell_type": "markdown",
   "source": [
    "## Things Break Constantly 💥\n",
    "\n",
    " * not a question of IF, but only of WHEN\n",
    " * when we first put great expectation into production we were breaking many data pipelines that turned out to actually be OK\n",
    "  - we started to learn about our data quality\n",
    "  - iterative process"
   ],
   "metadata": {
    "collapsed": false,
    "pycharm": {
     "name": "#%% md\n"
    }
   }
  },
  {
   "cell_type": "markdown",
   "metadata": {
    "slideshow": {
     "slide_type": "slide"
    }
   },
   "source": [
    "## Data Validation in Team 🥑\n",
    "\n",
    "* data validation in production for all our forecasting products for ~3 month\n",
    "* already prevented a handful of incidents 💪  \n",
    "* lead to investigation of data quality issues and improvements\n",
    "\n",
    "<img src=\"assets/ge-coverage.png\" alt=\"ge-coverage\" width=\"200\" style=\"float: left;\"/>\n",
    "\n"
   ]
  },
  {
   "cell_type": "markdown",
   "metadata": {
    "slideshow": {
     "slide_type": "slide"
    }
   },
   "source": []
  }
 ],
 "metadata": {
  "celltoolbar": "Slideshow",
  "kernelspec": {
   "display_name": "Python 3",
   "language": "python",
   "name": "python3"
  },
  "language_info": {
   "codemirror_mode": {
    "name": "ipython",
    "version": 3
   },
   "file_extension": ".py",
   "mimetype": "text/x-python",
   "name": "python",
   "nbconvert_exporter": "python",
   "pygments_lexer": "ipython3",
   "version": "3.7.3"
  }
 },
 "nbformat": 4,
 "nbformat_minor": 4
}